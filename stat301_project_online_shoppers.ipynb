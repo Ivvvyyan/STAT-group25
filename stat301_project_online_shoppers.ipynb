{
 "cells": [
  {
   "cell_type": "markdown",
   "id": "5019689d",
   "metadata": {},
   "source": [
    "# STAT 301 Project — Online Shoppers Purchasing Intention\n",
    "\n",
    "**Name:** Ivy Yan   \n",
    "**Group:**  group-25   \n",
    "**Student number:** 39512314 \n",
    "\n",
    "---\n"
   ]
  },
  {
   "cell_type": "markdown",
   "id": "d8cc06d0",
   "metadata": {},
   "source": [
    "## Section 1: Data Description"
   ]
  },
  {
   "cell_type": "markdown",
   "id": "5f74151c",
   "metadata": {},
   "source": [
    "\n",
    "### 1. Descriptive Summary\n",
    "\n",
    "#### Data description\n",
    "\n",
    "This data contains information about user behavior when online shopping. Each row in the dataset represents one online shopping session, and the variables describe various aspects of user behavior, technical attributes, and timing information.  \n",
    "The dataset includes both quantitative and categorical variables, such as the number and duration of pages visited, bounce and exit rates, month of visit, type of operating system, and whether the session occurred on a weekend.  \n",
    "\n",
    "- **Number of observations:** 12330  \n",
    "- **Number of variables:** 18\n",
    "#### Variables description\n",
    "  | Variable Name | Type | Description |\n",
    "|-----------------------------|------------------|-------------------------------------------------------------|\n",
    "| Administrative |Numeric(Integer) | Number of administrative pages visited by the user. |\n",
    "| Administrative_Duration | Numeric(Integer) | Total time spent on administrative-related pages (in seconds). |\n",
    "| Informational | Numeric(Integer) | Number of informational pages visited by the user. |\n",
    "| Informational_Duration | Numeric(Integer) | Total time spent on informational pages (in seconds). |\n",
    "| ProductRelated | Numeric(Integer) | Number of product-related pages visited by the user. |\n",
    "| ProductRelated_Duration | Numeric(Continuous) | Total time spent on product-related pages (in seconds). |\n",
    "| BounceRates | Numeric(Continuous) | percentage of visitors who enter the site from that page and then leave (\"bounce\") without triggering any other requests to the analytics server during that session. |\n",
    "| ExitRates | Numeric(Continuous) | percentage of this page being the last session. |\n",
    "| PageValues | Numeric(Integer) | Average value for a web page that a user visited before completing an e-commerce transaction.  |\n",
    "| SpecialDay | Numeric(Integer) | Closeness of the site visit date to a special day (e.g., Mother’s Day, Christmas). Ranges from 0 to 1. |\n",
    "| Month | Categorical | Month of the visit (Feb–Dec). |\n",
    "| OperatingSystems | Categorical | Type of operating system used by the visitor (e.g., Windows, Mac). |\n",
    "| Browser | Categorical | Type of browser used (e.g., Chrome, Firefox, Safari). |\n",
    "| Region | Categorical | Geographic region of the visitor. |\n",
    "| TrafficType | Categorical | Type of traffic source (e.g., direct, referral, search). |\n",
    "| VisitorType | Categorical | Indicates if the visitor is a Returning Visitor or New Visitor. |\n",
    "| Weekend | Binary (True/False) | Indicates whether the visit occurred on a weekend. |\n",
    "| Revenue | Binary (0/1) | Indicates whether the session ended with a purchase (1 = purchase, 0 = no purchase). |\n",
    "\n",
    "---\n"
   ]
  },
  {
   "cell_type": "markdown",
   "id": "cfe7eb99",
   "metadata": {},
   "source": [
    "\n",
    "### 2. Source and Information \n",
    "This dataset is the **Online Shoppers Purchasing Intention** dataset published by UCI Machine Learning Repository. \n",
    "It contains session-level features for e-commerce website visits and a binary outcome `Revenue` indicating whether a purchase occurred. \n"
   ]
  },
  {
   "cell_type": "markdown",
   "id": "5c51cb7b",
   "metadata": {},
   "source": [
    "\n",
    "### 3. Pre-selection of Variables \n",
    "I will first drop `Administrative_Duration`, `Informational_Duration` and `ProductRelated_Duration` because they are **redundant**. They are highly associated with `Administrative`, `Informational` and `ProductRelated`, which may cause multicollinearity. `OperatingSystems`, `browser`, and `region` will also be deleted because they don't have a clear categorization.\n",
    "\n",
    "Other variables will be selected to further analyse.\n"
   ]
  },
  {
   "cell_type": "markdown",
   "id": "38b3d461",
   "metadata": {},
   "source": [
    "## Section 2: Scientific Question"
   ]
  },
  {
   "cell_type": "markdown",
   "id": "c835c9b4",
   "metadata": {},
   "source": [
    "\n",
    "### 1. Scientific Question \n",
    "**Question:** _We want to examine the association between session behavior (including BounceRates, ExitRates, and Administrative activities) and the purchase outcome (Revenue)._\n",
    "\n",
    "### 2. Name the Response \n",
    "**Response:** `Revenue` (binary: 1 if the session resulted in a purchase, 0 otherwise).\n",
    "\n",
    "### 3. Aim: Prediction, Inference, or Both? \n",
    "It is an **Inference** model, because we aim to understand whether session behavior — including BounceRates, ExitRates, and Administrative activities — is associated with the purchase outcome (`Revenue`), rather than predicting it.\n"
   ]
  },
  {
   "cell_type": "markdown",
   "id": "5b6dbcc9",
   "metadata": {},
   "source": [
    "## Section 3: Exploratory Data Analysis and Visualization (EDA)"
   ]
  },
  {
   "cell_type": "code",
   "execution_count": 2,
   "id": "d0de7f03",
   "metadata": {},
   "outputs": [
    {
     "name": "stderr",
     "output_type": "stream",
     "text": [
      "── \u001b[1mAttaching core tidyverse packages\u001b[22m ──────────────────────── tidyverse 2.0.0 ──\n",
      "\u001b[32m✔\u001b[39m \u001b[34mdplyr    \u001b[39m 1.1.4     \u001b[32m✔\u001b[39m \u001b[34mreadr    \u001b[39m 2.1.5\n",
      "\u001b[32m✔\u001b[39m \u001b[34mforcats  \u001b[39m 1.0.0     \u001b[32m✔\u001b[39m \u001b[34mstringr  \u001b[39m 1.5.1\n",
      "\u001b[32m✔\u001b[39m \u001b[34mggplot2  \u001b[39m 3.5.1     \u001b[32m✔\u001b[39m \u001b[34mtibble   \u001b[39m 3.2.1\n",
      "\u001b[32m✔\u001b[39m \u001b[34mlubridate\u001b[39m 1.9.3     \u001b[32m✔\u001b[39m \u001b[34mtidyr    \u001b[39m 1.3.1\n",
      "\u001b[32m✔\u001b[39m \u001b[34mpurrr    \u001b[39m 1.0.2     \n",
      "── \u001b[1mConflicts\u001b[22m ────────────────────────────────────────── tidyverse_conflicts() ──\n",
      "\u001b[31m✖\u001b[39m \u001b[34mdplyr\u001b[39m::\u001b[32mfilter()\u001b[39m masks \u001b[34mstats\u001b[39m::filter()\n",
      "\u001b[31m✖\u001b[39m \u001b[34mdplyr\u001b[39m::\u001b[32mlag()\u001b[39m    masks \u001b[34mstats\u001b[39m::lag()\n",
      "\u001b[36mℹ\u001b[39m Use the conflicted package (\u001b[3m\u001b[34m<http://conflicted.r-lib.org/>\u001b[39m\u001b[23m) to force all conflicts to become errors\n",
      "\n",
      "Attaching package: ‘cowplot’\n",
      "\n",
      "\n",
      "The following object is masked from ‘package:lubridate’:\n",
      "\n",
      "    stamp\n",
      "\n",
      "\n"
     ]
    }
   ],
   "source": [
    "library(tidyverse)\n",
    "library(repr)\n",
    "library(infer)\n",
    "library(cowplot)\n",
    "library(broom)"
   ]
  },
  {
   "cell_type": "code",
   "execution_count": 30,
   "id": "70d6e3ef-0afb-4ee4-8140-a677a0308429",
   "metadata": {},
   "outputs": [
    {
     "data": {
      "text/html": [
       "<table class=\"dataframe\">\n",
       "<caption>A data.frame: 6 × 18</caption>\n",
       "<thead>\n",
       "\t<tr><th></th><th scope=col>Administrative</th><th scope=col>Administrative_Duration</th><th scope=col>Informational</th><th scope=col>Informational_Duration</th><th scope=col>ProductRelated</th><th scope=col>ProductRelated_Duration</th><th scope=col>BounceRates</th><th scope=col>ExitRates</th><th scope=col>PageValues</th><th scope=col>SpecialDay</th><th scope=col>Month</th><th scope=col>OperatingSystems</th><th scope=col>Browser</th><th scope=col>Region</th><th scope=col>TrafficType</th><th scope=col>VisitorType</th><th scope=col>Weekend</th><th scope=col>Revenue</th></tr>\n",
       "\t<tr><th></th><th scope=col>&lt;int&gt;</th><th scope=col>&lt;dbl&gt;</th><th scope=col>&lt;int&gt;</th><th scope=col>&lt;dbl&gt;</th><th scope=col>&lt;int&gt;</th><th scope=col>&lt;dbl&gt;</th><th scope=col>&lt;dbl&gt;</th><th scope=col>&lt;dbl&gt;</th><th scope=col>&lt;dbl&gt;</th><th scope=col>&lt;dbl&gt;</th><th scope=col>&lt;chr&gt;</th><th scope=col>&lt;int&gt;</th><th scope=col>&lt;int&gt;</th><th scope=col>&lt;int&gt;</th><th scope=col>&lt;int&gt;</th><th scope=col>&lt;chr&gt;</th><th scope=col>&lt;lgl&gt;</th><th scope=col>&lt;lgl&gt;</th></tr>\n",
       "</thead>\n",
       "<tbody>\n",
       "\t<tr><th scope=row>1</th><td>0</td><td>0</td><td>0</td><td>0</td><td> 1</td><td>  0.000000</td><td>0.20000</td><td>0.20000000</td><td>0</td><td>0.0</td><td>Feb</td><td>4</td><td>1</td><td>9</td><td>3</td><td>Returning_Visitor</td><td>FALSE</td><td>FALSE</td></tr>\n",
       "\t<tr><th scope=row>2</th><td>0</td><td>0</td><td>0</td><td>0</td><td> 2</td><td>  2.666667</td><td>0.05000</td><td>0.14000000</td><td>0</td><td>0.0</td><td>Feb</td><td>3</td><td>2</td><td>2</td><td>4</td><td>Returning_Visitor</td><td>FALSE</td><td>FALSE</td></tr>\n",
       "\t<tr><th scope=row>3</th><td>0</td><td>0</td><td>0</td><td>0</td><td> 1</td><td>  0.000000</td><td>0.20000</td><td>0.20000000</td><td>0</td><td>0.4</td><td>Feb</td><td>2</td><td>4</td><td>3</td><td>3</td><td>Returning_Visitor</td><td>FALSE</td><td>FALSE</td></tr>\n",
       "\t<tr><th scope=row>4</th><td>0</td><td>0</td><td>0</td><td>0</td><td> 2</td><td> 37.000000</td><td>0.00000</td><td>0.10000000</td><td>0</td><td>0.8</td><td>Feb</td><td>2</td><td>2</td><td>2</td><td>3</td><td>Returning_Visitor</td><td>FALSE</td><td>FALSE</td></tr>\n",
       "\t<tr><th scope=row>5</th><td>0</td><td>0</td><td>0</td><td>0</td><td> 3</td><td>395.000000</td><td>0.00000</td><td>0.06666667</td><td>0</td><td>0.0</td><td>Feb</td><td>1</td><td>1</td><td>3</td><td>3</td><td>Returning_Visitor</td><td>FALSE</td><td>FALSE</td></tr>\n",
       "\t<tr><th scope=row>6</th><td>0</td><td>0</td><td>0</td><td>0</td><td>16</td><td>407.750000</td><td>0.01875</td><td>0.02583333</td><td>0</td><td>0.4</td><td>Feb</td><td>1</td><td>1</td><td>4</td><td>3</td><td>Returning_Visitor</td><td>FALSE</td><td>FALSE</td></tr>\n",
       "</tbody>\n",
       "</table>\n"
      ],
      "text/latex": [
       "A data.frame: 6 × 18\n",
       "\\begin{tabular}{r|llllllllllllllllll}\n",
       "  & Administrative & Administrative\\_Duration & Informational & Informational\\_Duration & ProductRelated & ProductRelated\\_Duration & BounceRates & ExitRates & PageValues & SpecialDay & Month & OperatingSystems & Browser & Region & TrafficType & VisitorType & Weekend & Revenue\\\\\n",
       "  & <int> & <dbl> & <int> & <dbl> & <int> & <dbl> & <dbl> & <dbl> & <dbl> & <dbl> & <chr> & <int> & <int> & <int> & <int> & <chr> & <lgl> & <lgl>\\\\\n",
       "\\hline\n",
       "\t1 & 0 & 0 & 0 & 0 &  1 &   0.000000 & 0.20000 & 0.20000000 & 0 & 0.0 & Feb & 4 & 1 & 9 & 3 & Returning\\_Visitor & FALSE & FALSE\\\\\n",
       "\t2 & 0 & 0 & 0 & 0 &  2 &   2.666667 & 0.05000 & 0.14000000 & 0 & 0.0 & Feb & 3 & 2 & 2 & 4 & Returning\\_Visitor & FALSE & FALSE\\\\\n",
       "\t3 & 0 & 0 & 0 & 0 &  1 &   0.000000 & 0.20000 & 0.20000000 & 0 & 0.4 & Feb & 2 & 4 & 3 & 3 & Returning\\_Visitor & FALSE & FALSE\\\\\n",
       "\t4 & 0 & 0 & 0 & 0 &  2 &  37.000000 & 0.00000 & 0.10000000 & 0 & 0.8 & Feb & 2 & 2 & 2 & 3 & Returning\\_Visitor & FALSE & FALSE\\\\\n",
       "\t5 & 0 & 0 & 0 & 0 &  3 & 395.000000 & 0.00000 & 0.06666667 & 0 & 0.0 & Feb & 1 & 1 & 3 & 3 & Returning\\_Visitor & FALSE & FALSE\\\\\n",
       "\t6 & 0 & 0 & 0 & 0 & 16 & 407.750000 & 0.01875 & 0.02583333 & 0 & 0.4 & Feb & 1 & 1 & 4 & 3 & Returning\\_Visitor & FALSE & FALSE\\\\\n",
       "\\end{tabular}\n"
      ],
      "text/markdown": [
       "\n",
       "A data.frame: 6 × 18\n",
       "\n",
       "| <!--/--> | Administrative &lt;int&gt; | Administrative_Duration &lt;dbl&gt; | Informational &lt;int&gt; | Informational_Duration &lt;dbl&gt; | ProductRelated &lt;int&gt; | ProductRelated_Duration &lt;dbl&gt; | BounceRates &lt;dbl&gt; | ExitRates &lt;dbl&gt; | PageValues &lt;dbl&gt; | SpecialDay &lt;dbl&gt; | Month &lt;chr&gt; | OperatingSystems &lt;int&gt; | Browser &lt;int&gt; | Region &lt;int&gt; | TrafficType &lt;int&gt; | VisitorType &lt;chr&gt; | Weekend &lt;lgl&gt; | Revenue &lt;lgl&gt; |\n",
       "|---|---|---|---|---|---|---|---|---|---|---|---|---|---|---|---|---|---|---|\n",
       "| 1 | 0 | 0 | 0 | 0 |  1 |   0.000000 | 0.20000 | 0.20000000 | 0 | 0.0 | Feb | 4 | 1 | 9 | 3 | Returning_Visitor | FALSE | FALSE |\n",
       "| 2 | 0 | 0 | 0 | 0 |  2 |   2.666667 | 0.05000 | 0.14000000 | 0 | 0.0 | Feb | 3 | 2 | 2 | 4 | Returning_Visitor | FALSE | FALSE |\n",
       "| 3 | 0 | 0 | 0 | 0 |  1 |   0.000000 | 0.20000 | 0.20000000 | 0 | 0.4 | Feb | 2 | 4 | 3 | 3 | Returning_Visitor | FALSE | FALSE |\n",
       "| 4 | 0 | 0 | 0 | 0 |  2 |  37.000000 | 0.00000 | 0.10000000 | 0 | 0.8 | Feb | 2 | 2 | 2 | 3 | Returning_Visitor | FALSE | FALSE |\n",
       "| 5 | 0 | 0 | 0 | 0 |  3 | 395.000000 | 0.00000 | 0.06666667 | 0 | 0.0 | Feb | 1 | 1 | 3 | 3 | Returning_Visitor | FALSE | FALSE |\n",
       "| 6 | 0 | 0 | 0 | 0 | 16 | 407.750000 | 0.01875 | 0.02583333 | 0 | 0.4 | Feb | 1 | 1 | 4 | 3 | Returning_Visitor | FALSE | FALSE |\n",
       "\n"
      ],
      "text/plain": [
       "  Administrative Administrative_Duration Informational Informational_Duration\n",
       "1 0              0                       0             0                     \n",
       "2 0              0                       0             0                     \n",
       "3 0              0                       0             0                     \n",
       "4 0              0                       0             0                     \n",
       "5 0              0                       0             0                     \n",
       "6 0              0                       0             0                     \n",
       "  ProductRelated ProductRelated_Duration BounceRates ExitRates  PageValues\n",
       "1  1               0.000000              0.20000     0.20000000 0         \n",
       "2  2               2.666667              0.05000     0.14000000 0         \n",
       "3  1               0.000000              0.20000     0.20000000 0         \n",
       "4  2              37.000000              0.00000     0.10000000 0         \n",
       "5  3             395.000000              0.00000     0.06666667 0         \n",
       "6 16             407.750000              0.01875     0.02583333 0         \n",
       "  SpecialDay Month OperatingSystems Browser Region TrafficType\n",
       "1 0.0        Feb   4                1       9      3          \n",
       "2 0.0        Feb   3                2       2      4          \n",
       "3 0.4        Feb   2                4       3      3          \n",
       "4 0.8        Feb   2                2       2      3          \n",
       "5 0.0        Feb   1                1       3      3          \n",
       "6 0.4        Feb   1                1       4      3          \n",
       "  VisitorType       Weekend Revenue\n",
       "1 Returning_Visitor FALSE   FALSE  \n",
       "2 Returning_Visitor FALSE   FALSE  \n",
       "3 Returning_Visitor FALSE   FALSE  \n",
       "4 Returning_Visitor FALSE   FALSE  \n",
       "5 Returning_Visitor FALSE   FALSE  \n",
       "6 Returning_Visitor FALSE   FALSE  "
      ]
     },
     "metadata": {},
     "output_type": "display_data"
    },
    {
     "data": {
      "text/html": [
       "7550"
      ],
      "text/latex": [
       "7550"
      ],
      "text/markdown": [
       "7550"
      ],
      "text/plain": [
       "[1] 7550"
      ]
     },
     "metadata": {},
     "output_type": "display_data"
    }
   ],
   "source": [
    "online_shopping_raw <- read.csv(\"online_shoppers_intention.csv\")\n",
    "\n",
    "online_shopping <- online_shopping_raw %>%\n",
    "filter(is.na(Region) | Region != 1L)\n",
    "\n",
    "head(online_shopping)\n",
    "nrow(online_shopping)"
   ]
  },
  {
   "cell_type": "code",
   "execution_count": 34,
   "id": "c12d90ec-3c40-4ee2-b264-5d1dadbc82a6",
   "metadata": {},
   "outputs": [
    {
     "data": {
      "text/html": [
       "<table class=\"dataframe\">\n",
       "<caption>A tibble: 4 × 7</caption>\n",
       "<thead>\n",
       "\t<tr><th scope=col>term</th><th scope=col>estimate</th><th scope=col>std.error</th><th scope=col>statistic</th><th scope=col>p.value</th><th scope=col>conf.low</th><th scope=col>conf.high</th></tr>\n",
       "\t<tr><th scope=col>&lt;chr&gt;</th><th scope=col>&lt;dbl&gt;</th><th scope=col>&lt;dbl&gt;</th><th scope=col>&lt;dbl&gt;</th><th scope=col>&lt;dbl&gt;</th><th scope=col>&lt;dbl&gt;</th><th scope=col>&lt;dbl&gt;</th></tr>\n",
       "</thead>\n",
       "<tbody>\n",
       "\t<tr><td>(Intercept)   </td><td> -0.91785745</td><td>0.067646399</td><td>-13.5684598</td><td>6.160289e-42</td><td> -1.05070557</td><td> -0.78550560</td></tr>\n",
       "\t<tr><td>BounceRates   </td><td> -0.55884576</td><td>4.198105111</td><td> -0.1331186</td><td>8.940996e-01</td><td> -8.92803854</td><td>  7.52559072</td></tr>\n",
       "\t<tr><td>ExitRates     </td><td>-32.87538298</td><td>2.722065685</td><td>-12.0773658</td><td>1.391051e-33</td><td>-38.31108169</td><td>-27.64158881</td></tr>\n",
       "\t<tr><td>Administrative</td><td>  0.03808407</td><td>0.009040226</td><td>  4.2127345</td><td>2.522976e-05</td><td>  0.02023437</td><td>  0.05568946</td></tr>\n",
       "</tbody>\n",
       "</table>\n"
      ],
      "text/latex": [
       "A tibble: 4 × 7\n",
       "\\begin{tabular}{lllllll}\n",
       " term & estimate & std.error & statistic & p.value & conf.low & conf.high\\\\\n",
       " <chr> & <dbl> & <dbl> & <dbl> & <dbl> & <dbl> & <dbl>\\\\\n",
       "\\hline\n",
       "\t (Intercept)    &  -0.91785745 & 0.067646399 & -13.5684598 & 6.160289e-42 &  -1.05070557 &  -0.78550560\\\\\n",
       "\t BounceRates    &  -0.55884576 & 4.198105111 &  -0.1331186 & 8.940996e-01 &  -8.92803854 &   7.52559072\\\\\n",
       "\t ExitRates      & -32.87538298 & 2.722065685 & -12.0773658 & 1.391051e-33 & -38.31108169 & -27.64158881\\\\\n",
       "\t Administrative &   0.03808407 & 0.009040226 &   4.2127345 & 2.522976e-05 &   0.02023437 &   0.05568946\\\\\n",
       "\\end{tabular}\n"
      ],
      "text/markdown": [
       "\n",
       "A tibble: 4 × 7\n",
       "\n",
       "| term &lt;chr&gt; | estimate &lt;dbl&gt; | std.error &lt;dbl&gt; | statistic &lt;dbl&gt; | p.value &lt;dbl&gt; | conf.low &lt;dbl&gt; | conf.high &lt;dbl&gt; |\n",
       "|---|---|---|---|---|---|---|\n",
       "| (Intercept)    |  -0.91785745 | 0.067646399 | -13.5684598 | 6.160289e-42 |  -1.05070557 |  -0.78550560 |\n",
       "| BounceRates    |  -0.55884576 | 4.198105111 |  -0.1331186 | 8.940996e-01 |  -8.92803854 |   7.52559072 |\n",
       "| ExitRates      | -32.87538298 | 2.722065685 | -12.0773658 | 1.391051e-33 | -38.31108169 | -27.64158881 |\n",
       "| Administrative |   0.03808407 | 0.009040226 |   4.2127345 | 2.522976e-05 |   0.02023437 |   0.05568946 |\n",
       "\n"
      ],
      "text/plain": [
       "  term           estimate     std.error   statistic   p.value      conf.low    \n",
       "1 (Intercept)     -0.91785745 0.067646399 -13.5684598 6.160289e-42  -1.05070557\n",
       "2 BounceRates     -0.55884576 4.198105111  -0.1331186 8.940996e-01  -8.92803854\n",
       "3 ExitRates      -32.87538298 2.722065685 -12.0773658 1.391051e-33 -38.31108169\n",
       "4 Administrative   0.03808407 0.009040226   4.2127345 2.522976e-05   0.02023437\n",
       "  conf.high   \n",
       "1  -0.78550560\n",
       "2   7.52559072\n",
       "3 -27.64158881\n",
       "4   0.05568946"
      ]
     },
     "metadata": {},
     "output_type": "display_data"
    },
    {
     "data": {
      "text/html": [
       "<table class=\"dataframe\">\n",
       "<caption>A tibble: 4 × 7</caption>\n",
       "<thead>\n",
       "\t<tr><th scope=col>term</th><th scope=col>estimate</th><th scope=col>std.error</th><th scope=col>statistic</th><th scope=col>p.value</th><th scope=col>conf.low</th><th scope=col>conf.high</th></tr>\n",
       "\t<tr><th scope=col>&lt;chr&gt;</th><th scope=col>&lt;dbl&gt;</th><th scope=col>&lt;dbl&gt;</th><th scope=col>&lt;dbl&gt;</th><th scope=col>&lt;dbl&gt;</th><th scope=col>&lt;dbl&gt;</th><th scope=col>&lt;dbl&gt;</th></tr>\n",
       "</thead>\n",
       "<tbody>\n",
       "\t<tr><td>(Intercept)   </td><td>3.993738e-01</td><td>0.067646399</td><td>-13.5684598</td><td>6.160289e-42</td><td>3.496909e-01</td><td>4.558891e-01</td></tr>\n",
       "\t<tr><td>BounceRates   </td><td>5.718688e-01</td><td>4.198105111</td><td> -0.1331186</td><td>8.940996e-01</td><td>1.326179e-04</td><td>1.854909e+03</td></tr>\n",
       "\t<tr><td>ExitRates     </td><td>5.277188e-15</td><td>2.722065685</td><td>-12.0773658</td><td>1.391051e-33</td><td>2.299898e-17</td><td>9.894879e-13</td></tr>\n",
       "\t<tr><td>Administrative</td><td>1.038819e+00</td><td>0.009040226</td><td>  4.2127345</td><td>2.522976e-05</td><td>1.020440e+00</td><td>1.057269e+00</td></tr>\n",
       "</tbody>\n",
       "</table>\n"
      ],
      "text/latex": [
       "A tibble: 4 × 7\n",
       "\\begin{tabular}{lllllll}\n",
       " term & estimate & std.error & statistic & p.value & conf.low & conf.high\\\\\n",
       " <chr> & <dbl> & <dbl> & <dbl> & <dbl> & <dbl> & <dbl>\\\\\n",
       "\\hline\n",
       "\t (Intercept)    & 3.993738e-01 & 0.067646399 & -13.5684598 & 6.160289e-42 & 3.496909e-01 & 4.558891e-01\\\\\n",
       "\t BounceRates    & 5.718688e-01 & 4.198105111 &  -0.1331186 & 8.940996e-01 & 1.326179e-04 & 1.854909e+03\\\\\n",
       "\t ExitRates      & 5.277188e-15 & 2.722065685 & -12.0773658 & 1.391051e-33 & 2.299898e-17 & 9.894879e-13\\\\\n",
       "\t Administrative & 1.038819e+00 & 0.009040226 &   4.2127345 & 2.522976e-05 & 1.020440e+00 & 1.057269e+00\\\\\n",
       "\\end{tabular}\n"
      ],
      "text/markdown": [
       "\n",
       "A tibble: 4 × 7\n",
       "\n",
       "| term &lt;chr&gt; | estimate &lt;dbl&gt; | std.error &lt;dbl&gt; | statistic &lt;dbl&gt; | p.value &lt;dbl&gt; | conf.low &lt;dbl&gt; | conf.high &lt;dbl&gt; |\n",
       "|---|---|---|---|---|---|---|\n",
       "| (Intercept)    | 3.993738e-01 | 0.067646399 | -13.5684598 | 6.160289e-42 | 3.496909e-01 | 4.558891e-01 |\n",
       "| BounceRates    | 5.718688e-01 | 4.198105111 |  -0.1331186 | 8.940996e-01 | 1.326179e-04 | 1.854909e+03 |\n",
       "| ExitRates      | 5.277188e-15 | 2.722065685 | -12.0773658 | 1.391051e-33 | 2.299898e-17 | 9.894879e-13 |\n",
       "| Administrative | 1.038819e+00 | 0.009040226 |   4.2127345 | 2.522976e-05 | 1.020440e+00 | 1.057269e+00 |\n",
       "\n"
      ],
      "text/plain": [
       "  term           estimate     std.error   statistic   p.value      conf.low    \n",
       "1 (Intercept)    3.993738e-01 0.067646399 -13.5684598 6.160289e-42 3.496909e-01\n",
       "2 BounceRates    5.718688e-01 4.198105111  -0.1331186 8.940996e-01 1.326179e-04\n",
       "3 ExitRates      5.277188e-15 2.722065685 -12.0773658 1.391051e-33 2.299898e-17\n",
       "4 Administrative 1.038819e+00 0.009040226   4.2127345 2.522976e-05 1.020440e+00\n",
       "  conf.high   \n",
       "1 4.558891e-01\n",
       "2 1.854909e+03\n",
       "3 9.894879e-13\n",
       "4 1.057269e+00"
      ]
     },
     "metadata": {},
     "output_type": "display_data"
    }
   ],
   "source": [
    "online_shopping_glm <- glm(Revenue ~ BounceRates + ExitRates + Administrative, data = online_shopping, family = 'binomial')\n",
    "\n",
    "online_shopping_model <- tidy (online_shopping_glm, conf.int = TRUE, conf.level = 0.95)\n",
    "online_shopping_model\n",
    "\n",
    "online_shopping_model_odds <- tidy (online_shopping_glm, conf.int = TRUE, conf.level = 0.95, exponentiate = TRUE)\n",
    "online_shopping_model_odds\n"
   ]
  },
  {
   "cell_type": "markdown",
   "id": "48a54f67",
   "metadata": {},
   "source": [
    "\n",
    "### Interpretations (2–3 sentences for each point)\n",
    "- **Why this plot?** It addresses the scientific question by relating the binary response (`Revenue`, shown as conversion rate) to at least **three variables** simultaneously: `Month` (x‑axis), `VisitorType` (line grouping), and `Weekend` (line grouping). This helps reveal temporal seasonality and behavioral differences across visitor types and weekend vs. weekday sessions.\n",
    "- **Brief results:** _Edit after running the plot_. Note any visible gaps between returning and new visitors, months with notably high/low conversion, and whether weekend behavior differs from weekdays.\n",
    "- **What we learn / potential issues:** _Edit after inspection_. Consider whether some groups have small sample sizes (check `n` in the summary table), whether seasonality or special events (e.g., proximity to holidays) may confound results, and which variables look most promising for modeling.\n"
   ]
  },
  {
   "cell_type": "code",
   "execution_count": null,
   "id": "088346a1-93f5-44d3-8fd5-728554b9c2ae",
   "metadata": {},
   "outputs": [],
   "source": []
  },
  {
   "cell_type": "code",
   "execution_count": null,
   "id": "9f2ad8e9-7202-48b0-b28f-5456f9a753af",
   "metadata": {},
   "outputs": [],
   "source": []
  }
 ],
 "metadata": {
  "kernelspec": {
   "display_name": "R",
   "language": "R",
   "name": "ir"
  },
  "language_info": {
   "codemirror_mode": "r",
   "file_extension": ".r",
   "mimetype": "text/x-r-source",
   "name": "R",
   "pygments_lexer": "r",
   "version": "4.3.3"
  }
 },
 "nbformat": 4,
 "nbformat_minor": 5
}
